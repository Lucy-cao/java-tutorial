{
 "cells": [
  {
   "cell_type": "markdown",
   "id": "60ec6792",
   "metadata": {},
   "source": [
    "# System.arraycopy数组的复制"
   ]
  },
  {
   "cell_type": "code",
   "execution_count": 2,
   "id": "cec74cb6",
   "metadata": {
    "ExecuteTime": {
     "end_time": "2024-03-18T12:36:03.152554Z",
     "start_time": "2024-03-18T12:36:03.091668Z"
    },
    "vscode": {
     "languageId": "java"
    }
   },
   "outputs": [
    {
     "name": "stdout",
     "output_type": "stream",
     "text": [
      "Corretto\n",
      "Cortado\n",
      "Doppio\n",
      "Espresso\n",
      "Frappucino\n",
      "Freddo\n",
      "Lungo\n"
     ]
    }
   ],
   "source": [
    "String[] copyFrom={\n",
    "    \"Affogato\", \"Americano\", \"Cappuccino\", \"Corretto\", \"Cortado\",   \n",
    "    \"Doppio\", \"Espresso\", \"Frappucino\", \"Freddo\", \"Lungo\", \"Macchiato\",      \n",
    "    \"Marocchino\", \"Ristretto\" };\n",
    "    \n",
    "String[] copyTo = new String[7];\n",
    "System.arraycopy(copyFrom, 3, copyTo, 0, 7);\n",
    "\n",
    "for(String coffee:copyTo){\n",
    "    System.out.println(coffee);\n",
    "}"
   ]
  },
  {
   "cell_type": "markdown",
   "id": "d3e4af0a85f87487",
   "metadata": {
    "collapsed": false
   },
   "source": [
    "# java.util.Arrays里对数组的常用操作"
   ]
  },
  {
   "cell_type": "markdown",
   "id": "85f02b6d",
   "metadata": {},
   "source": [
    "## copyofRange"
   ]
  },
  {
   "cell_type": "code",
   "execution_count": null,
   "id": "b0e5c3b0",
   "metadata": {
    "vscode": {
     "languageId": "java"
    }
   },
   "outputs": [],
   "source": [
    "java.util.Arrays.copyofRange(char[] original, int from, int to) // 局部复制\n",
    "// original 原数组\n",
    "// from 原数组要复制的起始索引，包含\n",
    "// to 原数组要复制的结束索引，不包含\n",
    "\n",
    "// 相比于System.arraycopy 的优势在于可以不用先声明目标变量，可以直接返回 "
   ]
  },
  {
   "cell_type": "code",
   "execution_count": 3,
   "id": "cdaefca7",
   "metadata": {
    "ExecuteTime": {
     "end_time": "2024-03-18T12:40:08.204047Z",
     "start_time": "2024-03-18T12:40:08.133879Z"
    },
    "vscode": {
     "languageId": "java"
    }
   },
   "outputs": [
    {
     "name": "stdout",
     "output_type": "stream",
     "text": [
      "Cappuccino Corretto Cortado Doppio Espresso Frappucino Freddo "
     ]
    }
   ],
   "source": [
    "String[] copyTo = java.util.Arrays.copyOfRange(copyFrom, 2, 9);        \n",
    "for (String coffee : copyTo) {\n",
    "    System.out.print(coffee + \" \");           \n",
    "}        "
   ]
  },
  {
   "cell_type": "markdown",
   "id": "e7e9c473",
   "metadata": {},
   "source": [
    "## binarySearch"
   ]
  },
  {
   "cell_type": "code",
   "execution_count": null,
   "id": "79b96b7f",
   "metadata": {
    "vscode": {
     "languageId": "java"
    }
   },
   "outputs": [],
   "source": [
    "java.util.Arrays.binarySearch(Object[] originArray, Object key);\n",
    "// originArray 原数组\n",
    "// key 要搜索的值\n",
    "// 返回key在数组中的索引"
   ]
  },
  {
   "cell_type": "code",
   "execution_count": 6,
   "id": "e3ed15fc",
   "metadata": {
    "vscode": {
     "languageId": "java"
    }
   },
   "outputs": [
    {
     "data": {
      "text/plain": [
       "6"
      ]
     },
     "execution_count": 6,
     "metadata": {},
     "output_type": "execute_result"
    }
   ],
   "source": [
    "String[] copyFrom={\n",
    "    \"Affogato\", \"Americano\", \"Cappuccino\", \"Corretto\", \"Cortado\",   \n",
    "    \"Doppio\", \"Espresso\", \"Frappucino\", \"Freddo\", \"Lungo\", \"Macchiato\",      \n",
    "    \"Marocchino\", \"Ristretto\" };\n",
    "java.util.Arrays.binarySearch(copyFrom, \"Espresso\");"
   ]
  },
  {
   "cell_type": "markdown",
   "id": "a624f742",
   "metadata": {},
   "source": [
    "## equals"
   ]
  },
  {
   "cell_type": "code",
   "execution_count": 9,
   "id": "890b54b2",
   "metadata": {
    "vscode": {
     "languageId": "java"
    }
   },
   "outputs": [
    {
     "name": "stdout",
     "output_type": "stream",
     "text": [
      "true\n",
      "false\n"
     ]
    }
   ],
   "source": [
    "String[] strArray1 = {\"Affogato\", \"Americano\"};\n",
    "String[] strArray2 = {\"Affogato\", \"Americano\"};\n",
    "String[] strArray3 = {\"Affogato\", \"Americano\", \"Frappucino\"};\n",
    "\n",
    "System.out.println(java.util.Arrays.equals(strArray1, strArray2));//判断两个数组是否相等\n",
    "System.out.println(java.util.Arrays.equals(strArray1, strArray3));"
   ]
  },
  {
   "cell_type": "markdown",
   "id": "f4a719c5",
   "metadata": {},
   "source": [
    "## fill"
   ]
  },
  {
   "cell_type": "code",
   "execution_count": 11,
   "id": "eb9863a7",
   "metadata": {
    "vscode": {
     "languageId": "java"
    }
   },
   "outputs": [
    {
     "name": "stdout",
     "output_type": "stream",
     "text": [
      "ceshi ceshi ceshi ceshi ceshi ceshi ceshi "
     ]
    }
   ],
   "source": [
    "String[] toFilled = new String[7];\n",
    "java.util.Arrays.fill(toFilled, \"ceshi\");//使用指定的值填充数组\n",
    "\n",
    "for(String str:toFilled){\n",
    "    System.out.print(str+\" \");\n",
    "}"
   ]
  },
  {
   "cell_type": "markdown",
   "id": "32b7040f",
   "metadata": {},
   "source": [
    "## stream"
   ]
  },
  {
   "cell_type": "code",
   "execution_count": 12,
   "id": "a9fb6430",
   "metadata": {
    "vscode": {
     "languageId": "java"
    }
   },
   "outputs": [
    {
     "name": "stdout",
     "output_type": "stream",
     "text": [
      "Affogato Americano Cappuccino Corretto Cortado Doppio Espresso Frappucino Freddo Lungo Macchiato Marocchino Ristretto "
     ]
    }
   ],
   "source": [
    "java.util.Arrays.stream(copyFrom).map(coffee->coffee+\" \").forEach(System.out::print);\n",
    "//通过流打印输出"
   ]
  },
  {
   "cell_type": "code",
   "execution_count": 13,
   "id": "4f49c17f",
   "metadata": {
    "vscode": {
     "languageId": "java"
    }
   },
   "outputs": [
    {
     "data": {
      "text/plain": [
       "[Affogato, Americano, Cappuccino, Corretto, Cortado, Doppio, Espresso, Frappucino, Freddo, Lungo, Macchiato, Marocchino, Ristretto]"
      ]
     },
     "execution_count": 13,
     "metadata": {},
     "output_type": "execute_result"
    }
   ],
   "source": [
    "java.util.Arrays.toString(copyFrom)"
   ]
  },
  {
   "cell_type": "code",
   "execution_count": null,
   "id": "30f929dc",
   "metadata": {
    "vscode": {
     "languageId": "java"
    }
   },
   "outputs": [],
   "source": []
  },
  {
   "cell_type": "code",
   "execution_count": 26,
   "id": "851a64f8",
   "metadata": {
    "vscode": {
     "languageId": "java"
    }
   },
   "outputs": [
    {
     "ename": "CompilationException",
     "evalue": "",
     "output_type": "error",
     "traceback": [
      "\u001b[1m\u001b[30m|   \u001b[1m\u001b[30m        System.out.println(\u001b[0m\u001b[1m\u001b[30m\u001b[41mc\u001b[0m\u001b[1m\u001b[30m);\u001b[0m",
      "\u001b[1m\u001b[31m可能尚未初始化变量c\u001b[0m",
      ""
     ]
    }
   ],
   "source": [
    "public class Demo{\n",
    "    static int a;//field\n",
    "    static long b;//field\n",
    "    public static void main(String[] args){\n",
    "        int c;//local variable\n",
    "        System.out.println(a);//0\n",
    "        System.out.println(b);//0\n",
    "        System.out.println(c);//报错，未初始化\n",
    "    }\n",
    "}"
   ]
  },
  {
   "cell_type": "code",
   "execution_count": 25,
   "id": "a0bcf0d5",
   "metadata": {
    "vscode": {
     "languageId": "java"
    }
   },
   "outputs": [
    {
     "name": "stdout",
     "output_type": "stream",
     "text": [
      "0\n",
      "0\n"
     ]
    }
   ],
   "source": [
    "Demo.main(new String[2])"
   ]
  },
  {
   "cell_type": "code",
   "execution_count": null,
   "id": "fd427fd5",
   "metadata": {
    "vscode": {
     "languageId": "java"
    }
   },
   "outputs": [],
   "source": []
  }
 ],
 "metadata": {
  "kernelspec": {
   "display_name": "Java",
   "language": "java",
   "name": "java"
  },
  "language_info": {
   "codemirror_mode": "java",
   "file_extension": ".jshell",
   "mimetype": "text/x-java-source",
   "name": "Java",
   "pygments_lexer": "java",
   "version": "17.0.10+11-LTS-240"
  },
  "toc": {
   "base_numbering": 1,
   "nav_menu": {},
   "number_sections": true,
   "sideBar": true,
   "skip_h1_title": false,
   "title_cell": "Table of Contents",
   "title_sidebar": "Contents",
   "toc_cell": false,
   "toc_position": {},
   "toc_section_display": true,
   "toc_window_display": false
  }
 },
 "nbformat": 4,
 "nbformat_minor": 5
}
