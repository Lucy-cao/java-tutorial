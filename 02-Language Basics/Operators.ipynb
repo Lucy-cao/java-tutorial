{
 "cells": [
  {
   "cell_type": "code",
   "execution_count": 2,
   "metadata": {
    "vscode": {
     "languageId": "java"
    }
   },
   "outputs": [],
   "source": [
    "interface MyInterface{}\n",
    "class Parent{}\n",
    "class Child extends Parent implements MyInterface {}"
   ]
  },
  {
   "cell_type": "code",
   "execution_count": 5,
   "metadata": {
    "vscode": {
     "languageId": "java"
    }
   },
   "outputs": [
    {
     "name": "stdout",
     "output_type": "stream",
     "text": [
      "obj1 instanceof Parent: true\n",
      "obj1 instanceof Child: false\n",
      "obj1 instanceof MyInterface: false\n",
      "obj2 instanceof Parent: true\n",
      "obj2 instanceof Child: true\n",
      "obj2 instanceof MyInterface: true\n"
     ]
    }
   ],
   "source": [
    "Parent obj1 = new Parent();\n",
    "Parent obj2 = new Child();\n",
    "\n",
    "System.out.println(\"obj1 instanceof Parent: \"+ (obj1 instanceof Parent));//true\n",
    "System.out.println(\"obj1 instanceof Child: \"+ (obj1 instanceof Child));//false\n",
    "System.out.println(\"obj1 instanceof MyInterface: \"+ (obj1 instanceof MyInterface));//false\n",
    "\n",
    "System.out.println(\"obj2 instanceof Parent: \"+ (obj2 instanceof Parent));//true\n",
    "System.out.println(\"obj2 instanceof Child: \"+ (obj2 instanceof Child));//true\n",
    "System.out.println(\"obj2 instanceof MyInterface: \"+ (obj2 instanceof MyInterface));//true"
   ]
  },
  {
   "cell_type": "code",
   "execution_count": null,
   "metadata": {
    "vscode": {
     "languageId": "java"
    }
   },
   "outputs": [],
   "source": []
  }
 ],
 "metadata": {
  "kernelspec": {
   "display_name": "Java",
   "language": "java",
   "name": "java"
  },
  "language_info": {
   "codemirror_mode": "java",
   "file_extension": ".jshell",
   "mimetype": "text/x-java-source",
   "name": "Java",
   "pygments_lexer": "java",
   "version": "17.0.10+11-LTS-240"
  }
 },
 "nbformat": 4,
 "nbformat_minor": 2
}
